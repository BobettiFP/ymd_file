{
 "cells": [
  {
   "cell_type": "code",
   "execution_count": 1,
   "id": "3ae0bcd0",
   "metadata": {},
   "outputs": [],
   "source": [
    "import requests\n",
    "import pandas as pd\n",
    "from bs4 import BeautifulSoup\n",
    "\n",
    "import sys\n",
    "from PyQt5.QtWidgets import *\n",
    "from PyQt5.Qt import *\n"
   ]
  },
  {
   "cell_type": "code",
   "execution_count": 2,
   "id": "625eb97c",
   "metadata": {},
   "outputs": [],
   "source": [
    "import re\n",
    "\n",
    "def cleanhtml(raw_html):\n",
    "    cleanr = re.compile('<.*?>')\n",
    "    cleantext = re.sub(cleanr, '', raw_html)\n",
    "    return cleantext"
   ]
  },
  {
   "cell_type": "code",
   "execution_count": 3,
   "id": "b1a6f797",
   "metadata": {},
   "outputs": [],
   "source": [
    "names = pd.read_excel('명단.xlsx',header = None, names = ['닉네임'])"
   ]
  },
  {
   "cell_type": "code",
   "execution_count": 4,
   "id": "49bcb90e",
   "metadata": {},
   "outputs": [],
   "source": [
    "url_head = 'https://maple.gg/u/'"
   ]
  },
  {
   "cell_type": "code",
   "execution_count": 5,
   "id": "1969f742",
   "metadata": {},
   "outputs": [],
   "source": [
    "chart = pd.DataFrame(columns = ['닉네임','레벨','직업','길드','무릉','업적','유니온'])"
   ]
  },
  {
   "cell_type": "code",
   "execution_count": 6,
   "id": "b354eba0",
   "metadata": {},
   "outputs": [
    {
     "name": "stdout",
     "output_type": "stream",
     "text": [
      "0.8403361344537815 % Complete\n",
      "1.680672268907563 % Complete\n",
      "2.5210084033613445 % Complete\n",
      "3.361344537815126 % Complete\n",
      "4.201680672268908 % Complete\n",
      "5.042016806722689 % Complete\n",
      "5.88235294117647 % Complete\n",
      "6.722689075630252 % Complete\n",
      "7.563025210084033 % Complete\n",
      "8.403361344537815 % Complete\n",
      "9.243697478991598 % Complete\n",
      "10.084033613445378 % Complete\n",
      "10.92436974789916 % Complete\n",
      "11.76470588235294 % Complete\n",
      "12.605042016806722 % Complete\n",
      "13.445378151260504 % Complete\n",
      "14.285714285714285 % Complete\n",
      "15.126050420168067 % Complete\n",
      "15.966386554621847 % Complete\n",
      "16.80672268907563 % Complete\n",
      "17.647058823529413 % Complete\n",
      "18.487394957983195 % Complete\n",
      "19.327731092436977 % Complete\n",
      "20.168067226890756 % Complete\n",
      "21.008403361344538 % Complete\n",
      "21.84873949579832 % Complete\n",
      "22.689075630252102 % Complete\n",
      "23.52941176470588 % Complete\n",
      "24.369747899159663 % Complete\n",
      "25.210084033613445 % Complete\n",
      "26.05042016806723 % Complete\n",
      "26.89075630252101 % Complete\n",
      "27.73109243697479 % Complete\n",
      "28.57142857142857 % Complete\n",
      "29.411764705882355 % Complete\n",
      "30.252100840336134 % Complete\n",
      "31.092436974789916 % Complete\n",
      "31.932773109243694 % Complete\n",
      "32.773109243697476 % Complete\n",
      "33.61344537815126 % Complete\n",
      "34.45378151260504 % Complete\n",
      "35.294117647058826 % Complete\n",
      "36.134453781512605 % Complete\n",
      "36.97478991596639 % Complete\n",
      "37.81512605042017 % Complete\n",
      "38.655462184873954 % Complete\n",
      "39.49579831932773 % Complete\n",
      "40.33613445378151 % Complete\n",
      "41.17647058823529 % Complete\n",
      "42.016806722689076 % Complete\n",
      "42.857142857142854 % Complete\n",
      "43.69747899159664 % Complete\n",
      "44.537815126050425 % Complete\n",
      "45.378151260504204 % Complete\n",
      "46.21848739495798 % Complete\n",
      "47.05882352941176 % Complete\n",
      "47.89915966386555 % Complete\n",
      "48.739495798319325 % Complete\n",
      "49.57983193277311 % Complete\n",
      "50.42016806722689 % Complete\n",
      "51.26050420168067 % Complete\n",
      "52.10084033613446 % Complete\n",
      "52.94117647058824 % Complete\n",
      "53.78151260504202 % Complete\n",
      "54.621848739495796 % Complete\n",
      "55.46218487394958 % Complete\n",
      "56.30252100840336 % Complete\n",
      "57.14285714285714 % Complete\n",
      "57.98319327731093 % Complete\n",
      "58.82352941176471 % Complete\n",
      "59.66386554621849 % Complete\n",
      "60.50420168067227 % Complete\n",
      "61.34453781512605 % Complete\n",
      "62.18487394957983 % Complete\n",
      "63.02521008403361 % Complete\n",
      "63.86554621848739 % Complete\n",
      "64.70588235294117 % Complete\n",
      "65.54621848739495 % Complete\n",
      "66.38655462184873 % Complete\n",
      "67.22689075630252 % Complete\n",
      "68.0672268907563 % Complete\n",
      "68.90756302521008 % Complete\n",
      "69.74789915966386 % Complete\n",
      "70.58823529411765 % Complete\n",
      "71.42857142857143 % Complete\n",
      "72.26890756302521 % Complete\n",
      "73.10924369747899 % Complete\n",
      "73.94957983193278 % Complete\n",
      "74.78991596638656 % Complete\n",
      "75.63025210084034 % Complete\n",
      "76.47058823529412 % Complete\n",
      "77.31092436974791 % Complete\n",
      "78.15126050420169 % Complete\n",
      "78.99159663865547 % Complete\n",
      "79.83193277310924 % Complete\n",
      "80.67226890756302 % Complete\n",
      "81.5126050420168 % Complete\n",
      "82.35294117647058 % Complete\n",
      "83.19327731092437 % Complete\n",
      "84.03361344537815 % Complete\n",
      "84.87394957983193 % Complete\n",
      "85.71428571428571 % Complete\n",
      "86.5546218487395 % Complete\n",
      "87.39495798319328 % Complete\n",
      "88.23529411764706 % Complete\n",
      "89.07563025210085 % Complete\n",
      "89.91596638655463 % Complete\n",
      "90.75630252100841 % Complete\n",
      "91.59663865546219 % Complete\n",
      "92.43697478991596 % Complete\n",
      "93.27731092436974 % Complete\n",
      "94.11764705882352 % Complete\n",
      "94.9579831932773 % Complete\n",
      "95.7983193277311 % Complete\n",
      "96.63865546218487 % Complete\n",
      "97.47899159663865 % Complete\n",
      "98.31932773109243 % Complete\n",
      "99.15966386554622 % Complete\n",
      "100.0 % Complete\n"
     ]
    }
   ],
   "source": [
    "iterations = 1\n",
    "for nickname in names['닉네임']:\n",
    "    print(iterations/len(names['닉네임'])*100, '% Complete')\n",
    "    iterations+=1\n",
    "\n",
    "    url = url_head+nickname\n",
    "\n",
    "    resp = requests.get(url)\n",
    "    soup = BeautifulSoup(resp.text,\"html.parser\")\n",
    "    #정보\n",
    "    level = cleanhtml(str(soup.find(\"span\",{\"class\":\"level\"})))\n",
    "    job = cleanhtml(str(soup.find(\"span\",{\"class\":\"job\"})))\n",
    "    guild = cleanhtml(str(soup.find(\"div\",{\"class\":\"guild\"})))\n",
    "\n",
    "    box = soup.find(\"section\",{\"class\":\"sc-e8a6934a-0 iHQint\"})\n",
    "    mulung = cleanhtml(str(box.find(\"div\",{\"class\":\"sc-32380e67-2 cMvdPK\"})))\n",
    "    achievements = cleanhtml(str(box.find(\"div\",{\"class\":\"sc-32380e67-2 ebQuqd\"})))\n",
    "    union = cleanhtml(str(box.find(\"div\",{\"class\":\"sc-32380e67-2 gyckEt\"})))\n",
    "    \n",
    "    appender = []\n",
    "    appender = [nickname, level, job, guild, mulung, achievements, union]    \n",
    "    chart.loc[len(chart)] = appender"
   ]
  },
  {
   "cell_type": "code",
   "execution_count": 7,
   "id": "8ea0bfc9",
   "metadata": {},
   "outputs": [],
   "source": [
    "import datetime\n",
    "suffix = datetime.datetime.now().strftime('%y%m%d')\n",
    "chart.to_excel(suffix+\"연메동 레벨표.xlsx\", index = False)"
   ]
  },
  {
   "cell_type": "code",
   "execution_count": 8,
   "id": "9f217406",
   "metadata": {},
   "outputs": [
    {
     "name": "stdout",
     "output_type": "stream",
     "text": [
      "저장완료\n"
     ]
    }
   ],
   "source": [
    "print('저장완료')"
   ]
  },
  {
   "cell_type": "code",
   "execution_count": null,
   "id": "79becfcc",
   "metadata": {},
   "outputs": [],
   "source": [
    "\n",
    "\n",
    "\n"
   ]
  },
  {
   "cell_type": "code",
   "execution_count": null,
   "id": "5207fc7a",
   "metadata": {},
   "outputs": [],
   "source": []
  }
 ],
 "metadata": {
  "kernelspec": {
   "display_name": "Python 3 (ipykernel)",
   "language": "python",
   "name": "python3"
  },
  "language_info": {
   "codemirror_mode": {
    "name": "ipython",
    "version": 3
   },
   "file_extension": ".py",
   "mimetype": "text/x-python",
   "name": "python",
   "nbconvert_exporter": "python",
   "pygments_lexer": "ipython3",
   "version": "3.9.12"
  }
 },
 "nbformat": 4,
 "nbformat_minor": 5
}
